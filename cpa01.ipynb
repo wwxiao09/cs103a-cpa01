{
 "cells": [
  {
   "cell_type": "markdown",
   "id": "21f527b0",
   "metadata": {},
   "source": [
    "# Traffic and Drugs Related Violations Dataset"
   ]
  },
  {
   "cell_type": "code",
   "execution_count": null,
   "id": "c4b64b03",
   "metadata": {},
   "outputs": [],
   "source": []
  }
 ],
 "metadata": {
  "kernelspec": {
   "display_name": "Python 3 (ipykernel)",
   "language": "python",
   "name": "python3"
  },
  "language_info": {
   "codemirror_mode": {
    "name": "ipython",
    "version": 3
   },
   "file_extension": ".py",
   "mimetype": "text/x-python",
   "name": "python",
   "nbconvert_exporter": "python",
   "pygments_lexer": "ipython3",
   "version": "3.9.7"
  }
 },
 "nbformat": 4,
 "nbformat_minor": 5
}
